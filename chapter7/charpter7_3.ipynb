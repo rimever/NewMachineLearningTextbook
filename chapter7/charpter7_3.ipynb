{
 "cells": [
  {
   "cell_type": "code",
   "execution_count": 3,
   "metadata": {
    "collapsed": false
   },
   "outputs": [],
   "source": [
    "# Kerasでニューラルネットワークモデル\n",
    "import numpy as np\n",
    "import matplotlib.pyplot as plt\n",
    "import time\n",
    "\n",
    "np.random.seed(1)\n",
    "\n",
    "import tensorflow\n",
    "import keras.optimizers\n",
    "from keras.models import Sequential\n",
    "from keras.layers.core import Dense, Activation\n",
    "\n",
    "outfile = np.load('class_data.npz')\n",
    "X_train = outfile['X_train']\n",
    "T_train = outfile['T_train']\n",
    "X_test = outfile['X_test']\n",
    "T_test = outfile['T_test']\n",
    "X_range0 = outfile['X_range0']\n",
    "X_range1 = outfile['X_range1']"
   ]
  },
  {
   "cell_type": "code",
   "execution_count": 4,
   "metadata": {
    "collapsed": true
   },
   "outputs": [],
   "source": [
    "def Show_data(x,t):\n",
    "    wk, n = t.shape\n",
    "    c = [[0,0,0], [ .5, .5, .5], [1,1,1]]\n",
    "    for i  in range(n):\n",
    "        plt.plot(x[t[:,i] == 1 , 0], x[t[:,i] == 1, 1],\n",
    "                 linestyle='none', marker='o',\n",
    "                 markeredgecolor='black',\n",
    "                 color=c[i], alpha=0.8)\n",
    "        plt.grid(True)\n",
    "        "
   ]
  },
  {
   "cell_type": "code",
   "execution_count": 7,
   "metadata": {
    "collapsed": false
   },
   "outputs": [
    {
     "name": "stdout",
     "output_type": "stream",
     "text": [
      "cross entropy 0.44, accuracy 0.82\n",
      "Calculate time:2.452 sec\n"
     ]
    }
   ],
   "source": [
    "# 乱数の初期化\n",
    "np.random.seed(1)\n",
    "\n",
    "model = Sequential()\n",
    "model.add(Dense(2, input_dim = 2, activation= 'sigmoid',\n",
    "                kernel_initializer='uniform'))\n",
    "model.add(Dense(3, activation = 'softmax',\n",
    "                kernel_initializer='uniform'))\n",
    "sgd = keras.optimizers.SGD(lr=1, momentum=0.0,\n",
    "                           decay=0.0, nesterov=False)\n",
    "model.compile(optimizer=sgd, loss='categorical_crossentropy',\n",
    "              metrics=['accuracy'])\n",
    "\n",
    "# 学習\n",
    "startTime = time.time()\n",
    "history = model.fit(X_train , T_train, epochs = 1000, batch_size=100,\n",
    "                    verbose=0, validation_data=(X_test,T_test))\n",
    "\n",
    "# モデル評価\n",
    "score = model.evaluate(X_test, T_test, verbose=0)\n",
    "print('cross entropy {0:3.2f}, accuracy {1:3.2f}'.format(score[0],score[1]))\n",
    "calculation_time = time.time() - startTime\n",
    "print(\"Calculate time:{0:.3f} sec\".format(calculation_time))"
   ]
  },
  {
   "cell_type": "code",
   "execution_count": null,
   "metadata": {
    "collapsed": false
   },
   "outputs": [],
   "source": [
    "plt.figure(1, figsize=(12,3))\n",
    "plt.subplots_adjust(wspace=0.5)\n",
    "\n",
    "# 学習曲線表示\n",
    "plt.subplot(1,3,1)\n",
    "plt.plot(history.history['loss'], 'black', label='training')\n",
    "plt.plot(history.history['val_loss'], 'cornflowerblue', label='test')\n",
    "plt.legend()\n",
    "\n",
    "# 精度表示\n",
    "plt.subplot(1,3,2)\n",
    "plt.plot(history.history['acc'], 'black', label='training')\n",
    "plt.plot(history.history['val_acc'], 'cornflowerblue', label='test')\n",
    "plt.legend()\n",
    "\n",
    "# 境界線表示\n",
    "plt.subplot(1,3,3)\n",
    "Show_data(X_test, T_test)\n",
    "xn = 60 # 等高線表示の解像度\n",
    "x0 = np.linspace(X_range0[0], X_range0[1], xn)\n",
    "x1 = np.linspace(X_range1[0], X_range1[1], xn)\n",
    "xx0, xx1 = np.meshgrid(x0, x1)\n",
    "x = np.c_[np.reshape(xx0, xn * xn, 1), np.reshape(xx1, xn * xn,1) ]\n",
    "y = model.predict(x)\n",
    "K = 3\n",
    "for ic in range(K):\n",
    "    f = y[:,ic]\n",
    "    f = f.reshape(xn, xn)\n",
    "    f = f.T\n",
    "    cont = plt.contour(xx0, xx1, f , levels=[0.5,0.9], colors=['cornflowerblue','black'])\n",
    "    cont.clabel(fmt='%1.1f',fontsize=9)\n",
    "    plt.xlim(X_range0)\n",
    "    plt.ylim(X_range1)\n",
    "    \n",
    "plt.show()  "
   ]
  },
  {
   "cell_type": "code",
   "execution_count": null,
   "metadata": {
    "collapsed": true
   },
   "outputs": [],
   "source": []
  }
 ],
 "metadata": {
  "kernelspec": {
   "display_name": "Python 3",
   "language": "python",
   "name": "python3"
  },
  "language_info": {
   "codemirror_mode": {
    "name": "ipython",
    "version": 3
   },
   "file_extension": ".py",
   "mimetype": "text/x-python",
   "name": "python",
   "nbconvert_exporter": "python",
   "pygments_lexer": "ipython3",
   "version": "3.5.1"
  }
 },
 "nbformat": 4,
 "nbformat_minor": 0
}
