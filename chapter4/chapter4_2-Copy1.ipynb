{
 "cells": [
  {
   "cell_type": "code",
   "execution_count": 1,
   "metadata": {
    "collapsed": false
   },
   "outputs": [
    {
     "name": "stdout",
     "output_type": "stream",
     "text": [
      "[[1 2 3]\n",
      " [4 5 6]]\n"
     ]
    }
   ],
   "source": [
    "import numpy as np\n",
    "A = np.array([[1,2,3],[4,5,6]])\n",
    "print(A)"
   ]
  },
  {
   "cell_type": "code",
   "execution_count": 2,
   "metadata": {
    "collapsed": false
   },
   "outputs": [
    {
     "name": "stdout",
     "output_type": "stream",
     "text": [
      "[[ 7  8  9]\n",
      " [10 11 12]]\n"
     ]
    }
   ],
   "source": [
    "B = np.array([[7,8,9],[10,11,12]])\n",
    "print(B)"
   ]
  },
  {
   "cell_type": "code",
   "execution_count": 3,
   "metadata": {
    "collapsed": false
   },
   "outputs": [
    {
     "name": "stdout",
     "output_type": "stream",
     "text": [
      "[[ 8 10 12]\n",
      " [14 16 18]]\n",
      "[[-6 -6 -6]\n",
      " [-6 -6 -6]]\n"
     ]
    }
   ],
   "source": [
    "print(A+B)\n",
    "print(A-B)"
   ]
  },
  {
   "cell_type": "code",
   "execution_count": 5,
   "metadata": {
    "collapsed": false
   },
   "outputs": [
    {
     "name": "stdout",
     "output_type": "stream",
     "text": [
      "[[ 2  4  6]\n",
      " [ 8 10 12]]\n"
     ]
    }
   ],
   "source": [
    "A = np.array([[1,2,3],[4,5,6]])\n",
    "print(2* A)"
   ]
  },
  {
   "cell_type": "code",
   "execution_count": 6,
   "metadata": {
    "collapsed": false
   },
   "outputs": [
    {
     "name": "stdout",
     "output_type": "stream",
     "text": [
      "32\n"
     ]
    }
   ],
   "source": [
    "A = np.array([1,2,3])\n",
    "B = np.array([4,5,6])\n",
    "print(A.dot(B))"
   ]
  },
  {
   "cell_type": "code",
   "execution_count": 7,
   "metadata": {
    "collapsed": false
   },
   "outputs": [
    {
     "name": "stdout",
     "output_type": "stream",
     "text": [
      "[ 4 10 18]\n"
     ]
    }
   ],
   "source": [
    "A = np.array([1,2,3])\n",
    "B = np.array([4,5,6])\n",
    "print (A * B)"
   ]
  },
  {
   "cell_type": "code",
   "execution_count": 8,
   "metadata": {
    "collapsed": false
   },
   "outputs": [
    {
     "name": "stdout",
     "output_type": "stream",
     "text": [
      "[ 0.25  0.4   0.5 ]\n"
     ]
    }
   ],
   "source": [
    "A = np.array([1,2,3])\n",
    "B = np.array([4,5,6])\n",
    "print (A/B)"
   ]
  },
  {
   "cell_type": "code",
   "execution_count": 10,
   "metadata": {
    "collapsed": false
   },
   "outputs": [
    {
     "name": "stdout",
     "output_type": "stream",
     "text": [
      "[[ 32   4]\n",
      " [-32  -4]]\n"
     ]
    }
   ],
   "source": [
    "A = np.array([[1,2,3],[-1,-2,-3]])\n",
    "B = np.array([[4,-4],[5,-5],[6,6]])\n",
    "print(A.dot(B))"
   ]
  },
  {
   "cell_type": "code",
   "execution_count": 11,
   "metadata": {
    "collapsed": false
   },
   "outputs": [
    {
     "name": "stdout",
     "output_type": "stream",
     "text": [
      "[[ 4  8 12]\n",
      " [ 5 10 15]]\n"
     ]
    }
   ],
   "source": [
    "A = np.array([1,2,3])\n",
    "B = np.array([[4],[5]])\n",
    "\n",
    "print ( A* B)"
   ]
  },
  {
   "cell_type": "code",
   "execution_count": 13,
   "metadata": {
    "collapsed": false
   },
   "outputs": [
    {
     "name": "stdout",
     "output_type": "stream",
     "text": [
      "[[ 1.  0.  0.]\n",
      " [ 0.  1.  0.]\n",
      " [ 0.  0.  1.]]\n"
     ]
    }
   ],
   "source": [
    "print(np.identity(3))"
   ]
  },
  {
   "cell_type": "code",
   "execution_count": 14,
   "metadata": {
    "collapsed": false
   },
   "outputs": [
    {
     "name": "stdout",
     "output_type": "stream",
     "text": [
      "[[ 1.  2.  3.]\n",
      " [ 4.  5.  6.]\n",
      " [ 7.  8.  9.]]\n"
     ]
    }
   ],
   "source": [
    "A = np.array([[1,2,3],[4,5,6],[7,8,9]])\n",
    "I = np.identity(3)\n",
    "print(A.dot(I))\n"
   ]
  },
  {
   "cell_type": "code",
   "execution_count": 15,
   "metadata": {
    "collapsed": false
   },
   "outputs": [
    {
     "name": "stdout",
     "output_type": "stream",
     "text": [
      "[[-2.   1. ]\n",
      " [ 1.5 -0.5]]\n"
     ]
    }
   ],
   "source": [
    "A = np.array([[1,2],[3,4]])\n",
    "invA = np.linalg.inv(A)\n",
    "print(invA)"
   ]
  },
  {
   "cell_type": "code",
   "execution_count": 16,
   "metadata": {
    "collapsed": false
   },
   "outputs": [
    {
     "name": "stdout",
     "output_type": "stream",
     "text": [
      "[[1 2 3]\n",
      " [4 5 6]]\n",
      "[[1 4]\n",
      " [2 5]\n",
      " [3 6]]\n"
     ]
    }
   ],
   "source": [
    "A = np.array([[1,2,3],[4,5,6]])\n",
    "print(A)\n",
    "print(A.T)"
   ]
  },
  {
   "cell_type": "code",
   "execution_count": 19,
   "metadata": {
    "collapsed": false
   },
   "outputs": [
    {
     "data": {
      "image/png": "[encoded data removed]",
      "text/plain": [
       "<matplotlib.figure.Figure at 0x1056c7d30>"
      ]
     },
     "metadata": {},
     "output_type": "display_data"
    }
   ],
   "source": [
    "import numpy as np\n",
    "import matplotlib.pyplot as plt\n",
    "%matplotlib inline\n",
    "x = np.linspace(-4,4,100)\n",
    "y = 2 ** x\n",
    "y2 = 3 ** x\n",
    "y3 = 0.5 ** x\n",
    "\n",
    "plt.figure(figsize=(5,5))\n",
    "plt.plot(x,y,'black',linewidth=3,label='$y=2^x$')\n",
    "plt.plot(x,y2,'cornflowerblue',linewidth=3,label='y=3^x$')\n",
    "plt.plot(x,y3,'gray',linewidth=3,label='y=0.5^x$')\n",
    "plt.ylim(-2,6)\n",
    "plt.xlim(-4,4)\n",
    "plt.grid(True)\n",
    "plt.legend(loc='lower right')\n",
    "plt.show()"
   ]
  },
  {
   "cell_type": "code",
   "execution_count": 20,
   "metadata": {
    "collapsed": false
   },
   "outputs": [
    {
     "data": {
      "image/png": "[encoded data removed]",
      "text/plain": [
       "<matplotlib.figure.Figure at 0x107ce73c8>"
      ]
     },
     "metadata": {},
     "output_type": "display_data"
    }
   ],
   "source": [
    "#4.7.2\n",
    "x = np.linspace(-8,8,100)\n",
    "y = 2**x\n",
    "\n",
    "# np.log(0)はエラーになるので0は含めない\n",
    "x2 = np.linspace(0.001,8,100)\n",
    "\n",
    "y2 = np.log(x2) / np.log(2)\n",
    "\n",
    "plt.figure(figsize=(5,5))\n",
    "plt.plot(x,y,'black',linewidth=3)\n",
    "plt.plot(x2,y2,'cornflowerblue',linewidth=3)\n",
    "plt.plot(x,x,'black',linestyle='--',linewidth=1)\n",
    "plt.ylim(-8,8)\n",
    "plt.xlim(-8,8)\n",
    "plt.grid(True)\n",
    "plt.show()\n"
   ]
  },
  {
   "cell_type": "code",
   "execution_count": 21,
   "metadata": {
    "collapsed": false
   },
   "outputs": [
    {
     "data": {
      "image/png": "[encoded data removed]",
      "text/plain": [
       "<matplotlib.figure.Figure at 0x107d40cc0>"
      ]
     },
     "metadata": {},
     "output_type": "display_data"
    }
   ],
   "source": [
    "x = np.linspace(-4,4,100)\n",
    "y = (x-1)**2 + 2\n",
    "logy = np.log(y)\n",
    "\n",
    "plt.figure(figsize=(4,4))\n",
    "plt.plot(x,y,'black',linewidth = 3)\n",
    "plt.plot(x,logy,'cornflowerblue',linewidth=3)\n",
    "plt.yticks(range(-4,9,1))\n",
    "plt.xticks(range(-4,5,1))\n",
    "plt.ylim(-4,8)\n",
    "plt.ylim(-4,4)\n",
    "plt.grid(True)\n",
    "plt.show()"
   ]
  },
  {
   "cell_type": "code",
   "execution_count": 22,
   "metadata": {
    "collapsed": false
   },
   "outputs": [
    {
     "data": {
      "text/plain": [
       "<function matplotlib.pyplot.show>"
      ]
     },
     "execution_count": 22,
     "metadata": {},
     "output_type": "execute_result"
    },
    {
     "data": {
      "image/png": "[encoded data removed]",
      "text/plain": [
       "<matplotlib.figure.Figure at 0x107dce3c8>"
      ]
     },
     "metadata": {},
     "output_type": "display_data"
    }
   ],
   "source": [
    "x = np.linspace(-4,4,100)\n",
    "a = 2\n",
    "y = a**x\n",
    "dy = np.log(a) * y\n",
    "\n",
    "plt.figure(figsize=(4,4))\n",
    "plt.plot(x,y,'gray',linestyle='--',linewidth=3)\n",
    "plt.plot(x,dy,color='black',linewidth=3)\n",
    "plt.ylim(-1,8)\n",
    "plt.xlim(-4,4)\n",
    "plt.grid(True)\n",
    "plt.show"
   ]
  },
  {
   "cell_type": "code",
   "execution_count": 23,
   "metadata": {
    "collapsed": false
   },
   "outputs": [
    {
     "data": {
      "image/png": "[encoded data removed]",
      "text/plain": [
       "<matplotlib.figure.Figure at 0x10881add8>"
      ]
     },
     "metadata": {},
     "output_type": "display_data"
    }
   ],
   "source": [
    "x = np.linspace(0.0001,4,100)\n",
    "y = np.log(x)\n",
    "dy = 1 / x\n",
    "\n",
    "plt.figure(figsize=(4,4))\n",
    "plt.plot(x,y,'gray',linestyle = '--',linewidth=3)\n",
    "plt.plot(x,dy,color='black',linewidth=3)\n",
    "plt.ylim(-8,8)\n",
    "plt.xlim(-1,4)\n",
    "plt.grid(True)\n",
    "plt.show()"
   ]
  },
  {
   "cell_type": "code",
   "execution_count": 25,
   "metadata": {
    "collapsed": false
   },
   "outputs": [
    {
     "data": {
      "image/png": "[encoded data removed]",
      "text/plain": [
       "<matplotlib.figure.Figure at 0x10870f0f0>"
      ]
     },
     "metadata": {},
     "output_type": "display_data"
    }
   ],
   "source": [
    "x = np.linspace(-10,10,100)\n",
    "y = 1/ ( 1 + np.exp(-x))\n",
    "\n",
    "plt.figure(figsize=(4,4))\n",
    "plt.plot(x,y,'black',linewidth=3)\n",
    "\n",
    "plt.ylim(-1,3)\n",
    "plt.xlim(-10,10)\n",
    "plt.grid(True)\n",
    "plt.show()"
   ]
  },
  {
   "cell_type": "code",
   "execution_count": 27,
   "metadata": {
    "collapsed": false
   },
   "outputs": [
    {
     "name": "stdout",
     "output_type": "stream",
     "text": [
      "[ 0.71  0.26  0.04]\n",
      "1.0\n"
     ]
    }
   ],
   "source": [
    "# ソフトマックス関数\n",
    "def softmax(x0,x1,x2):\n",
    "    u = np.exp(x0) + np.exp(x1) +  np.exp(x2)\n",
    "    return np.exp(x0) / u ,  np.exp(x1) /u,   np.exp(x2) /u\n",
    "\n",
    "# test\n",
    "y = softmax(2, 1,-1)\n",
    "print(np.round(y,2))\n",
    "print(np.sum(y))"
   ]
  },
  {
   "cell_type": "raw",
   "metadata": {},
   "source": [
    "from mp1_toolkits.mplot3d import Axes3D\n",
    "\n",
    "xn = 20\n",
    "x0 = np.linspace(-4,4,xn)\n",
    "x1 = np.linspace(-4,4,xn)\n",
    "\n",
    "y = np.zeros((xn,xn,3))\n",
    "\n",
    "for i0 in range(xn):\n",
    "    for i1 in range(xn):\n",
    "        y[i1,i0, :] = softmax(x0[i0],x1[i1],1)\n",
    "        \n",
    "xx0, xx1 = np.meshgrid(x0,x1)\n",
    "plt.figure(figsize=(8,3))\n",
    "for i in range(2):\n",
    "    ax = plt.subplot(1,2, i + 1 , projection='3d')\n",
    "    ax.plot_surface(xx0,xx1,y[:,:,1],\n",
    "        rstride = 1, cstride = 1, alpha=0.3,\n",
    "        color='blue', edgecolor='black')\n",
    "    ax.set_xlabel('$x_0$',fontsize=14)\n",
    "    ax.set_ylabel('$x_1$',fontsize=14)\n",
    "    ax.vier_init(40,-125)\n",
    "        \n",
    "plt.show()\n",
    "        "
   ]
  },
  {
   "cell_type": "code",
   "execution_count": null,
   "metadata": {
    "collapsed": true
   },
   "outputs": [],
   "source": []
  }
 ],
 "metadata": {
  "kernelspec": {
   "display_name": "Python 3",
   "language": "python",
   "name": "python3"
  },
  "language_info": {
   "codemirror_mode": {
    "name": "ipython",
    "version": 3
   },
   "file_extension": ".py",
   "mimetype": "text/x-python",
   "name": "python",
   "nbconvert_exporter": "python",
   "pygments_lexer": "ipython3",
   "version": "3.5.1"
  }
 },
 "nbformat": 4,
 "nbformat_minor": 0
}
