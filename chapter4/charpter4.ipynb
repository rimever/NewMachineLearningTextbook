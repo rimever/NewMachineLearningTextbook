{
 "cells": [
  {
   "cell_type": "code",
   "execution_count": 3,
   "metadata": {
    "collapsed": false
   },
   "outputs": [
    {
     "name": "stdout",
     "output_type": "stream",
     "text": [
      "[2 1]\n"
     ]
    }
   ],
   "source": [
    "# ベクトルを定義する\n",
    "import numpy as np\n",
    "a=np.array([2,1])\n",
    "print(a)"
   ]
  },
  {
   "cell_type": "code",
   "execution_count": 2,
   "metadata": {
    "collapsed": false
   },
   "outputs": [
    {
     "data": {
      "text/plain": [
       "numpy.ndarray"
      ]
     },
     "execution_count": 2,
     "metadata": {},
     "output_type": "execute_result"
    }
   ],
   "source": [
    "type(a)"
   ]
  },
  {
   "cell_type": "code",
   "execution_count": 4,
   "metadata": {
    "collapsed": false
   },
   "outputs": [
    {
     "name": "stdout",
     "output_type": "stream",
     "text": [
      "[[1 2]\n",
      " [3 4]]\n"
     ]
    }
   ],
   "source": [
    "#縦ベクトルを表す\n",
    "c = np.array([[1,2],[3,4]])\n",
    "print(c)"
   ]
  },
  {
   "cell_type": "code",
   "execution_count": 5,
   "metadata": {
    "collapsed": false
   },
   "outputs": [
    {
     "name": "stdout",
     "output_type": "stream",
     "text": [
      "[[1]\n",
      " [2]]\n"
     ]
    }
   ],
   "source": [
    "d=np.array([[1],[2]])\n",
    "print(d)"
   ]
  },
  {
   "cell_type": "code",
   "execution_count": 6,
   "metadata": {
    "collapsed": false
   },
   "outputs": [
    {
     "name": "stdout",
     "output_type": "stream",
     "text": [
      "[[1 2]]\n"
     ]
    }
   ],
   "source": [
    "print(d.T)"
   ]
  },
  {
   "cell_type": "code",
   "execution_count": 7,
   "metadata": {
    "collapsed": false
   },
   "outputs": [
    {
     "name": "stdout",
     "output_type": "stream",
     "text": [
      "[3 4]\n"
     ]
    }
   ],
   "source": [
    "# 足し算と引き算\n",
    "a = np.array([2,1])\n",
    "b = np.array([1,3])\n",
    "print(a + b)"
   ]
  },
  {
   "cell_type": "code",
   "execution_count": 8,
   "metadata": {
    "collapsed": false
   },
   "outputs": [
    {
     "name": "stdout",
     "output_type": "stream",
     "text": [
      "[ 1 -2]\n"
     ]
    }
   ],
   "source": [
    "a = np.array([2,1])\n",
    "b = np.array([1,3])\n",
    "print(a - b)"
   ]
  },
  {
   "cell_type": "code",
   "execution_count": 10,
   "metadata": {
    "collapsed": false
   },
   "outputs": [
    {
     "name": "stdout",
     "output_type": "stream",
     "text": [
      "[4 2]\n"
     ]
    }
   ],
   "source": [
    "# スカラーとの掛け算\n",
    "print(2 * a)"
   ]
  },
  {
   "cell_type": "code",
   "execution_count": 12,
   "metadata": {
    "collapsed": false
   },
   "outputs": [
    {
     "name": "stdout",
     "output_type": "stream",
     "text": [
      "10\n"
     ]
    }
   ],
   "source": [
    "b = np.array([1,3])\n",
    "c = np.array([4,2])\n",
    "print(b.dot(c))"
   ]
  },
  {
   "cell_type": "code",
   "execution_count": 13,
   "metadata": {
    "collapsed": false
   },
   "outputs": [
    {
     "name": "stdout",
     "output_type": "stream",
     "text": [
      "3.16227766017\n"
     ]
    }
   ],
   "source": [
    "a = np.array([1,3])\n",
    "print(np.linalg.norm(a))"
   ]
  },
  {
   "cell_type": "code",
   "execution_count": 14,
   "metadata": {
    "collapsed": false
   },
   "outputs": [
    {
     "name": "stdout",
     "output_type": "stream",
     "text": [
      "500500.0\n"
     ]
    }
   ],
   "source": [
    "import numpy as np\n",
    "a = np.ones(1000)\n",
    "b = np.arange(1,1001)\n",
    "print(a.dot(b))"
   ]
  },
  {
   "cell_type": "code",
   "execution_count": null,
   "metadata": {
    "collapsed": false
   },
   "outputs": [],
   "source": [
    "# 勾配を表す\n",
    "import numpy as np\n",
    "import matplotlib.pyplot as plt\n",
    "\n",
    "# fの定義\n",
    "def f(w0, w1):\n",
    "    return w0**2 + 2 * w0 * w1 + 3\n",
    "\n",
    "# fのw0に関する偏微分\n",
    "def df_dw0(w0, w1):\n",
    "    return 2 * w0 + 2 * w1\n",
    "\n",
    "# fのw1に関する偏微分\n",
    "def df_dw1(w0, w1):\n",
    "    return 2 * w0 + 0 * w1\n",
    "\n",
    "w_range = 2\n",
    "dw = 0.25\n",
    "w0 = np.arange(-w_range, w_range + dw, dw)\n",
    "w1 = np.arange(-w_range, w_range + dw, dw)\n",
    "wn = w0.shape[0]\n",
    "\n",
    "ww0,ww1 = np.meshgrid(w0,w1)\n",
    "\n",
    "ff = np.zeros((len(w0), len(w1)))\n",
    "dff_dw0 = np.zeros((len(w0), len(w1)))\n",
    "dff_dw1 = np.zeros((len(w0), len(w1)))\n",
    "\n",
    "for i0 in range(wn):\n",
    "    for i1 in range(wn):\n",
    "        ff[i1,i0] = f(w0[i0],w1[i1])\n",
    "        dff_dw0[i1,i0] = df_dw0(w0[i0],w1[i1])\n",
    "        dff_dw0[i1,i0] = df_dw1(w0[i0],w1[i1])\n",
    "        \n",
    "plt.figure(figsize=(9,4))\n",
    "plt.subplots_adjust(wspace=0.)\n",
    "plt.subplot(1,2,1)\n",
    "cont = plt.contour(ww0, ww1, ff, 10, colors='k')\n",
    "cont.clabel(fmt='%2.0f',fontsize=8)\n",
    "plt.xticks(range(-w_range, w_range + 1, 1))\n",
    "plt.yticks(range(-w_range, w_range + 1, 1))\n",
    "plt.xlim(-w_range - 0.5 , w_range + .5)\n",
    "plt.ylim(-w_range - .5 , w_range + .5)\n",
    "plt.xlabel('$w_0$',fontsize=14)\n",
    "plt.ylabel('$w_1$',fontsize=14)\n",
    "\n",
    "plt.subplot(1,2,2)\n",
    "plt.quiver(ww0, ww1,dff_dw0, dff_dw1)\n",
    "plt.xlabel('$w_0$',fontsize=14)\n",
    "plt.ylabel('$w_1$',fontsize=14)\n",
    "\n",
    "plt.xticks(range(-w_range, w_range + 1, 1))\n",
    "plt.yticks(range(-w_range, w_range + 1, 1))\n",
    "\n",
    "plt.xticks(range(-w_range, w_range + 1, 1))\n",
    "plt.yticks(range(-w_range, w_range + 1, 1))\n",
    "\n",
    "plt.show()"
   ]
  },
  {
   "cell_type": "code",
   "execution_count": null,
   "metadata": {
    "collapsed": true
   },
   "outputs": [],
   "source": []
  }
 ],
 "metadata": {
  "kernelspec": {
   "display_name": "Python 3",
   "language": "python",
   "name": "python3"
  },
  "language_info": {
   "codemirror_mode": {
    "name": "ipython",
    "version": 3
   },
   "file_extension": ".py",
   "mimetype": "text/x-python",
   "name": "python",
   "nbconvert_exporter": "python",
   "pygments_lexer": "ipython3",
   "version": "3.5.1"
  }
 },
 "nbformat": 4,
 "nbformat_minor": 0
}
