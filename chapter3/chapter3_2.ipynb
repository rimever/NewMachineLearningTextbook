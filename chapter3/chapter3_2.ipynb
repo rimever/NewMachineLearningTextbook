{
 "cells": [
  {
   "cell_type": "code",
   "execution_count": 4,
   "metadata": {
    "collapsed": false
   },
   "outputs": [
    {
     "name": "stdout",
     "output_type": "stream",
     "text": [
      "[-2.  -1.5 -1.  -0.5  0.   0.5  1.   1.5  2. ]\n"
     ]
    }
   ],
   "source": [
    "# ２つの変数の関数\n",
    "import numpy as np\n",
    "import matplotlib.pyplot as plt\n",
    "\n",
    "# 関数f3を定義\n",
    "def f3(x0, x1):\n",
    "    r = 2 * x0**2 + x1**2\n",
    "    ans = r * np.exp(-r)\n",
    "    return ans\n",
    "\n",
    "# 各x0,x1でf3を計算\n",
    "xn = 9\n",
    "x0 = np.linspace(-2,2,xn)\n",
    "x1 = np.linspace(-2,2,xn)\n",
    "y = np.zeros((len(x0),len(x1)))\n",
    "for i0 in range(xn):\n",
    "    for i1 in range(xn):\n",
    "        y[i1, i0] = f3(x0[i0],x1[i1])\n",
    "        \n",
    "print(x0)"
   ]
  },
  {
   "cell_type": "code",
   "execution_count": 6,
   "metadata": {
    "collapsed": false
   },
   "outputs": [
    {
     "name": "stdout",
     "output_type": "stream",
     "text": [
      "[[ 0.   0.   0.   0.   0.1  0.   0.   0.   0. ]\n",
      " [ 0.   0.   0.1  0.2  0.2  0.2  0.1  0.   0. ]\n",
      " [ 0.   0.   0.1  0.3  0.4  0.3  0.1  0.   0. ]\n",
      " [ 0.   0.   0.2  0.4  0.2  0.4  0.2  0.   0. ]\n",
      " [ 0.   0.   0.3  0.3  0.   0.3  0.3  0.   0. ]\n",
      " [ 0.   0.   0.2  0.4  0.2  0.4  0.2  0.   0. ]\n",
      " [ 0.   0.   0.1  0.3  0.4  0.3  0.1  0.   0. ]\n",
      " [ 0.   0.   0.1  0.2  0.2  0.2  0.1  0.   0. ]\n",
      " [ 0.   0.   0.   0.   0.1  0.   0.   0.   0. ]]\n"
     ]
    }
   ],
   "source": [
    "print(np.round(y,1))"
   ]
  },
  {
   "cell_type": "code",
   "execution_count": null,
   "metadata": {
    "collapsed": true
   },
   "outputs": [],
   "source": [
    "# 数値を色で表現する:pcolor\n",
    "plt.figure(figsize =(3.5,3))\n",
    "plt.gray()\n",
    "plt.pcolor(y)\n",
    "plt.colorbar()\n",
    "plt.show()\n",
    "\n",
    "# TODO:表示されない！？"
   ]
  },
  {
   "cell_type": "code",
   "execution_count": null,
   "metadata": {
    "collapsed": true
   },
   "outputs": [],
   "source": [
    "# 関数の表面を面で表す\n",
    "from mpl_toolkits.mplot3d import Axes3D\n",
    "\n",
    "xx0,xx1 = np.meshgrid(x0,x1)\n",
    "\n",
    "plt.figure(figsize=(5,3.5))\n",
    "ax = plt.subplot(1,1,1, projection='3d')\n",
    "ax.plot_surface(xx0,xx1,y, rstride=1,cstride=1,alpha=0.3,color='blue',edgecolor='black')\n",
    "ax.set_zticks((0,0.2))\n",
    "ax.view_init(75,-95)\n",
    "plt.show()"
   ]
  },
  {
   "cell_type": "code",
   "execution_count": null,
   "metadata": {
    "collapsed": true
   },
   "outputs": [],
   "source": [
    "print(x0)\n",
    "print(x1)"
   ]
  },
  {
   "cell_type": "code",
   "execution_count": null,
   "metadata": {
    "collapsed": true
   },
   "outputs": [],
   "source": [
    "# 等高線で表示する\n",
    "xn = 50\n",
    "x0 = np.linspace(-2,2,xn)\n",
    "x1 = np.linspace(-2,2,xn)\n",
    "\n",
    "y = np.zeros((len(x0), len(x1))\n",
    "for i0 in range(xn):\n",
    "        for i1 in range(xn):\n",
    "             y[i1, i0] = f3(x0[i0], x1[i1])\n",
    "             \n",
    "xx0, xx1 = np.meshgrid(x0,x1)\n",
    "             \n",
    "plt.figure(1, figsize=(4,4))\n",
    "cont = plt.contour(xx0, xx1, y , 5,colors='black')\n",
    "cont.clabel(fmt='%3.2f',fontsize=8)\n",
    "plt.xlabel('$x_0$, fontsize=14)\n",
    "plt.ylabel('$x_1$, fontsize=14)\n",
    "plt.show()"
   ]
  },
  {
   "cell_type": "code",
   "execution_count": null,
   "metadata": {
    "collapsed": true
   },
   "outputs": [],
   "source": []
  }
 ],
 "metadata": {
  "kernelspec": {
   "display_name": "Python 3",
   "language": "python",
   "name": "python3"
  },
  "language_info": {
   "codemirror_mode": {
    "name": "ipython",
    "version": 3
   },
   "file_extension": ".py",
   "mimetype": "text/x-python",
   "name": "python",
   "nbconvert_exporter": "python",
   "pygments_lexer": "ipython3",
   "version": "3.5.1"
  }
 },
 "nbformat": 4,
 "nbformat_minor": 0
}
